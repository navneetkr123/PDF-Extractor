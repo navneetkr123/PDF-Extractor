{
 "cells": [
  {
   "cell_type": "code",
   "execution_count": 1,
   "metadata": {},
   "outputs": [],
   "source": [
    "#! pip3 install PyPDF2\n",
    "#! pip3 install textract"
   ]
  },
  {
   "cell_type": "markdown",
   "metadata": {},
   "source": [
    "**References: https://stackoverflow.com/questions/34837707/how-to-extract-text-from-a-pdf-file/49265359**\\\n",
    "> Reference is always necessary just to avoid plagrism"
   ]
  },
  {
   "cell_type": "markdown",
   "metadata": {},
   "source": [
    "> Here I am not making any function or loop for differnt pdf because each pdf is followed by some different words and encoding"
   ]
  },
  {
   "cell_type": "markdown",
   "metadata": {},
   "source": [
    "**Note: Here I have not preprocessed most of the thing because using re we can find things without even preprocessing**"
   ]
  },
  {
   "cell_type": "markdown",
   "metadata": {},
   "source": [
    "# First English pdf"
   ]
  },
  {
   "cell_type": "markdown",
   "metadata": {},
   "source": [
    "**In this section I have used pypdf**"
   ]
  },
  {
   "cell_type": "code",
   "execution_count": 60,
   "metadata": {},
   "outputs": [],
   "source": [
    "import PyPDF2\n",
    "pdf_file = open('4bfdaea6cdbfd6f136ed9ad629573952 (2) (1).pdf', 'rb')\n",
    "read_pdf = PyPDF2.PdfFileReader(pdf_file)\n"
   ]
  },
  {
   "cell_type": "code",
   "execution_count": 61,
   "metadata": {},
   "outputs": [
    {
     "name": "stderr",
     "output_type": "stream",
     "text": [
      "PdfReadWarning: Superfluous whitespace found in object header b'23' b'0' [pdf.py:1666]\n",
      "PdfReadWarning: Superfluous whitespace found in object header b'10' b'0' [pdf.py:1666]\n",
      "PdfReadWarning: Superfluous whitespace found in object header b'22' b'0' [pdf.py:1666]\n",
      "PdfReadWarning: Superfluous whitespace found in object header b'1' b'0' [pdf.py:1666]\n",
      "PdfReadWarning: Superfluous whitespace found in object header b'4' b'0' [pdf.py:1666]\n",
      "PdfReadWarning: Superfluous whitespace found in object header b'7' b'0' [pdf.py:1666]\n"
     ]
    }
   ],
   "source": [
    "number_of_pages = read_pdf.getNumPages()\n"
   ]
  },
  {
   "cell_type": "code",
   "execution_count": 62,
   "metadata": {},
   "outputs": [],
   "source": [
    "page = read_pdf.getPage(0)\n"
   ]
  },
  {
   "cell_type": "code",
   "execution_count": 63,
   "metadata": {},
   "outputs": [
    {
     "data": {
      "text/plain": [
       "3"
      ]
     },
     "execution_count": 63,
     "metadata": {},
     "output_type": "execute_result"
    }
   ],
   "source": [
    "number_of_pages"
   ]
  },
  {
   "cell_type": "code",
   "execution_count": 64,
   "metadata": {},
   "outputs": [
    {
     "name": "stdout",
     "output_type": "stream",
     "text": [
      "b' S.C.C. No. 519/2017\\n                          \\n      \\nExh. No.\\nIN THE COURT OF MAGISTRATE, F.C., COURT NO.2, AT :  NEWASA\\nPARTICULARS UNDER CHAPTER XX OF THE CODE OF CRIMINAL\\nPROCEDURE.\\n1) Date of offence\\n: \\n25/05/2017\\n2) Date of Report\\n:  \\n25/05/2017\\n3) Name of the informant\\n:   \\nN. K. Sangle, PC B.No. 1775\\nTraffic Control Branch,\\nAhmednagar.\\n4) Name,age & address of  \\n:Rahul Navnath Chavan,\\n    accused\\nR/o: Chanda, Tal. Newasa\\n5) Particulars of the offence\\n:That on 25/05/2017 at about 14.30 hours on public place\\ni.e. on Ghodegaon to Shanishingnapur road, at Ghodegaon, Tal.\\nNewasa you accused were found while carrying 5 passengers in your\\npiaggio rickshaw without having permit in that regard as contemplated\\nunder M.V. Act and you thereby committed an offence defined in Sec.\\n66(1) punishable under Sec. 192 of M.V. Act and within my\\ncognizance.  \\nSecondly, on the same date, time and place, you accused\\nfailed to  produce your driving license and thereby committed an\\noffence punishable under Section- 130/177 of M.V. Act and within my\\ncognizance.\\nLastly, on the same day, date, time and place you accused\\ndrove above Ape rickshaw without registering it in accordance with\\nM.V. Act and thereby committed an offence punishable under Section-\\n39(1) punishable under Sec. 192 of M.V. Act and within my\\ncognizance.\\n'\n"
     ]
    },
    {
     "name": "stderr",
     "output_type": "stream",
     "text": [
      "PdfReadWarning: Superfluous whitespace found in object header b'2' b'0' [pdf.py:1666]\n",
      "PdfReadWarning: Superfluous whitespace found in object header b'3' b'0' [pdf.py:1666]\n"
     ]
    }
   ],
   "source": [
    "page_content = page.extractText()\n",
    "print (page_content.encode(\"utf-8\"))"
   ]
  },
  {
   "cell_type": "code",
   "execution_count": 65,
   "metadata": {},
   "outputs": [],
   "source": [
    "#new_page = page_content.split(\":\")\n",
    "#print(new_page)"
   ]
  },
  {
   "cell_type": "code",
   "execution_count": 66,
   "metadata": {},
   "outputs": [
    {
     "name": "stderr",
     "output_type": "stream",
     "text": [
      "PdfReadWarning: Superfluous whitespace found in object header b'5' b'0' [pdf.py:1666]\n",
      "PdfReadWarning: Superfluous whitespace found in object header b'6' b'0' [pdf.py:1666]\n",
      "PdfReadWarning: Superfluous whitespace found in object header b'8' b'0' [pdf.py:1666]\n",
      "PdfReadWarning: Superfluous whitespace found in object header b'9' b'0' [pdf.py:1666]\n"
     ]
    }
   ],
   "source": [
    "import PyPDF2  \n",
    "def getPDFContent(path):\n",
    "    content = \"\"\n",
    "    num_pages = 10\n",
    "    p = open(path, \"rb\")\n",
    "    pdf = PyPDF2.PdfFileReader(p)\n",
    "    for i in range(0, 3):\n",
    "        content += pdf.getPage(i).extractText() + \"\\n\"\n",
    "    content = \" \".join(content.replace(u\"\\xa0\", \" \").strip().split())     \n",
    "    return content \n",
    "\n",
    "text = getPDFContent(\"4bfdaea6cdbfd6f136ed9ad629573952 (2) (1).pdf\")"
   ]
  },
  {
   "cell_type": "code",
   "execution_count": 67,
   "metadata": {},
   "outputs": [
    {
     "data": {
      "text/plain": [
       "'s.c.c. no. 519/2017 exh. no. in the court of magistrate, f.c., court no.2, at : newasa particulars under chapter xx of the code of criminal procedure. 1) date of offence : 25/05/2017 2) date of report : 25/05/2017 3) name of the informant : n. k. sangle, pc b.no. 1775 traffic control branch, ahmednagar. 4) name,age & address of :rahul navnath chavan, accused r/o: chanda, tal. newasa 5) particulars of the offence :that on 25/05/2017 at about 14.30 hours on public place i.e. on ghodegaon to shanishingnapur road, at ghodegaon, tal. newasa you accused were found while carrying 5 passengers in your piaggio rickshaw without having permit in that regard as contemplated under m.v. act and you thereby committed an offence defined in sec. 66(1) punishable under sec. 192 of m.v. act and within my cognizance. secondly, on the same date, time and place, you accused failed to produce your driving license and thereby committed an offence punishable under section- 130/177 of m.v. act and within my cognizance. lastly, on the same day, date, time and place you accused drove above ape rickshaw without registering it in accordance with m.v. act and thereby committed an offence punishable under section- 39(1) punishable under sec. 192 of m.v. act and within my cognizance. .. 2 .. 6) plea of the accused. q.1) have you received the copies of police papers ? ans:- yes. q.2) have you understood the charge now read over and explained to you ? ans:- yes q.3) do you plead guilty ? ans:- yes. ---------------------------- signature of accused. before me, ( a. g. deshingkar ) j.m.f.c.,court no.2, newasa. -: o r d e r :- 1.the accused voluntarily plead guilty for the offence punishable u/s 66(1)/192, 130/177 and 39/192 of the motor vehicles act. these offences are punishable with fine. 2.the accused has no criminal antecedent, further he submitted that, he is driver and his entire family is dependent on him. considering these aspects and the nature of offence and its punishment, i am of the opinion that it is just and expedient to sentence him with minimum fine. in the result following order - -: o r d e r :- 1.the accused rahul navnath chavhan is hereby convicted vide section 255(2) for the offence punishable u/s 66(1)/192 of the motor vehicles act and he is sentenced to pay fine of rs. 2,000/- (rupees two thousands only) in default to suffer r/i for 7 days. 2.the accused is hereby convicted vide section 255(2) for the offence punishable u/s 130/177 of the motor vehicles act and he is sentenced to p ay fine of rs. 100/- (rupees one hundred only) in default to suffer r/i for 2 days. 3the accused is hereby convicted vide section 255(2) for the offence punishable u/s 39/192 of the motor vehicles act and he is sentenced to p ay fine of rs. 2,000/- (rupees two thousands only) in default to suffer r/i for 7 days. ( a. g. deshingkar) j.m.f.c. court no. 2, date - 22/06/2017 newasa.'"
      ]
     },
     "execution_count": 67,
     "metadata": {},
     "output_type": "execute_result"
    }
   ],
   "source": [
    "text = text.lower()\n",
    "text"
   ]
  },
  {
   "cell_type": "code",
   "execution_count": 68,
   "metadata": {},
   "outputs": [
    {
     "data": {
      "text/plain": [
       "<_sre.SRE_Match object; span=(172, 182), match='25/05/2017'>"
      ]
     },
     "execution_count": 68,
     "metadata": {},
     "output_type": "execute_result"
    }
   ],
   "source": [
    "#import datetime as datetime\n",
    "import re\n",
    "match = re.search(r'\\d{2}/\\d{2}/\\d{4}', text)\n",
    "#date = datetime.strptime(match.group(), '%Y-%m-%d').date()\n",
    "match"
   ]
  },
  {
   "cell_type": "code",
   "execution_count": 69,
   "metadata": {},
   "outputs": [],
   "source": [
    "#import datetime as datetime\n",
    "match = re.search(r'\\w{4}\" \"\\w{2}\" \"\\w{7}', text)\n",
    "#date = datetime.strptime(match.group(), '%Y-%m-%d').date()\n",
    "match"
   ]
  },
  {
   "cell_type": "code",
   "execution_count": 70,
   "metadata": {},
   "outputs": [],
   "source": [
    "match = re.search(r\"Date of offence\", text)\n",
    "match"
   ]
  },
  {
   "cell_type": "code",
   "execution_count": 71,
   "metadata": {},
   "outputs": [
    {
     "name": "stdout",
     "output_type": "stream",
     "text": [
      "****************************************************************************************************\n",
      " date of offence : 25/05/2017 \n",
      "****************************************************************************************************\n",
      " date of report : 25/05/2017 \n",
      "****************************************************************************************************\n",
      " name of the informant : n. k. sangle\n",
      "****************************************************************************************************\n"
     ]
    }
   ],
   "source": [
    "import re\n",
    "print(\"*\"*100)\n",
    "#s = 'asdf=5;iwantthis123jasd'\n",
    "result = re.search('1\\)(.*)2\\) date', text)\n",
    "print(result.group(1))\n",
    "print(\"*\"*100)\n",
    "\n",
    "result = re.search('2\\)(.*)3\\) name', text)\n",
    "print(result.group(1))\n",
    "print(\"*\"*100)\n",
    "\n",
    "result = re.search('3\\)(.*), pc', text)\n",
    "print(result.group(1))\n",
    "print(\"*\"*100)\n",
    "\n"
   ]
  },
  {
   "cell_type": "code",
   "execution_count": 72,
   "metadata": {},
   "outputs": [
    {
     "name": "stdout",
     "output_type": "stream",
     "text": [
      "****************************************************************************************************\n",
      "Date of judjement passed is ---> 22/06/2017\n",
      "****************************************************************************************************\n",
      "Do you pleaded guilty? --->  yes.\n",
      "****************************************************************************************************\n",
      "adderess of accused --->  chanda, tal. newasa \n",
      "****************************************************************************************************\n",
      "Name of accused ---> rahul navnath chavan\n",
      "****************************************************************************************************\n",
      "Section ---> 255(2) \n",
      "****************************************************************************************************\n",
      "Act --->  motor vehicles act \n",
      "****************************************************************************************************\n"
     ]
    }
   ],
   "source": [
    "#Date of judgement passed\n",
    "print(\"*\"*100)\n",
    "result = re.search('date - (.*) ', text)\n",
    "print(\"Date of judjement passed is --->\", result.group(1))\n",
    "print(\"*\"*100)\n",
    "\n",
    "#Guilty or not\n",
    "result = re.search('do you plead guilty ?(.*) ---', text)\n",
    "print(\"Do you pleaded guilty? --->\", result.group(1)[7:])\n",
    "print(\"*\"*100)\n",
    "\n",
    "#Name of accused\n",
    "result = re.search('accused(.*)5\\)', text)\n",
    "print(\"adderess of accused --->\", result.group(1)[5:])\n",
    "print(\"*\"*100)\n",
    "\n",
    "#Address of Accused\n",
    "result = re.search('name,age & address of :(.*), accused', text)\n",
    "print(\"Name of accused --->\", result.group(1))\n",
    "print(\"*\"*100)\n",
    "\n",
    "#In below block of code I am restrictring string to limited value.\n",
    "# Section\n",
    "result = re.search('the accused is hereby (.*)and he is', text)\n",
    "text0 = result.group(1)\n",
    "result = re.search('convicted (.*)and he is', text0)\n",
    "text1 = result.group(1)\n",
    "result = re.search('vide (.*)for the', text1)\n",
    "text3 = result.group(1)\n",
    "result = re.search('section (.*)', text3)\n",
    "print(\"Section --->\", result.group(1))\n",
    "print(\"*\"*100)\n",
    "\n",
    "# ACT\n",
    "result = re.search('convicted (.*)and he is', text)\n",
    "text1 = result.group(1)\n",
    "result = re.search(' of (.*)and he is sentenced', text1)\n",
    "text2 = result.group(1)\n",
    "result = re.search('the(.*)and he is sentenced', text2)\n",
    "print(\"Act --->\", result.group(1))\n",
    "print(\"*\"*100)\n",
    "\n",
    "\n",
    "\n",
    "\n"
   ]
  },
  {
   "cell_type": "code",
   "execution_count": null,
   "metadata": {},
   "outputs": [],
   "source": []
  },
  {
   "cell_type": "code",
   "execution_count": null,
   "metadata": {},
   "outputs": [],
   "source": []
  },
  {
   "cell_type": "markdown",
   "metadata": {},
   "source": [
    "# Second English pdf"
   ]
  },
  {
   "cell_type": "code",
   "execution_count": 73,
   "metadata": {},
   "outputs": [],
   "source": [
    "#! pip3 install tika"
   ]
  },
  {
   "cell_type": "code",
   "execution_count": 74,
   "metadata": {},
   "outputs": [
    {
     "data": {
      "text/plain": [
       "str"
      ]
     },
     "execution_count": 74,
     "metadata": {},
     "output_type": "execute_result"
    }
   ],
   "source": [
    "import textract\n",
    "text = textract.process(\"9b2ca71c4efa9b0ff91ffcaee034f460 (2) (1).pdf\", encoding='ascii')\n",
    "text = text.decode()\n",
    "type(text)"
   ]
  },
  {
   "cell_type": "code",
   "execution_count": 75,
   "metadata": {},
   "outputs": [
    {
     "data": {
      "text/plain": [
       "'1.2.3.4.in the court of judicial magistrate f.c., newasaat  newasa s.t.c. no. 303/2014      exh. no. 2date of offence: 07/07/2014  date of complaint: 07/07/2014    name of complainantname of accused  5.      particulars of offence:  state of maharashtra, through-   dadasaheb pandharinath garad   police naik, b no. 1863, p.s. newasa :  suresh  punjaram sable, age - 42   r/o valadgaon, tal. aurangabad:thatyouon07/07/2014atabout10.45hoursinfrontofhotelabhishek,atnewasafataonaurangabadroad,tal.newasawerefounddrivingyourvehicletatamagicno.mh/20/bn/3528withouthavingpermitofcarryingpassengers  and  found  carrying  11  passengers  in  it  and  that  you  therebycommittedanoffenceundersec.66(1)r/wsec.192ofmotorvehiclesactandwithinmycognizance.lastly,ontheabovesaiddaydate,timeandplace,youfailedtoproduceoriginaldocumentsregardingyourvehicleandtherebycommittedanoffenceundersec.158r/wsec.177ofmotorvehiclesactandwithinmycognizance.6.    plea of the accusedq. no.1have you received the copies of police papers?a.q. no.2a.q. no.3a.yes.have you understood the particulars of offence now read over and explained to you in vernacular?yes.do you plead guilty?i  plead guilty.date :- 07/07/2014        accused--------------------          (n.n. patil ) judicial magistrate f.c.  newasa\\x0c         2 the accused has voluntarily pleaded guilty for the offence against him. the plea being voluntary. hence, i pass the following order :       o r d e rthe accused   suresh  punjaram sable, age - 42,  r/o valadgaon, tal. 1.aurangabad is hereby convicted u/s 252 of criminal procedure code for the offence punishable under 66(1) r/w sec. 192 of motor vehicles act and he is sentenced to pay fine of rs. 2,000/- (rs. two thousand only). in default of payment of fine amount, accused to suffer simple imprisonment for 07 days.2. the accused   suresh  punjaram sable, age - 42, r/o valadgaon, tal. aurangabad is hereby convicted u/s 252 of criminal procedure code for the offence punishable under sec. 158 r/w sec. 177 of motor vehicles act  and he is sentenced to pay fine of rs. 100/- (rs. one hundred only). in default of payment of fine amount, accused to suffer simple imprisonment for 07 days.date :- 07/07/2014                                         (n.n. patil )       judicial magistrate f.c.        newasa \\x0c'"
      ]
     },
     "execution_count": 75,
     "metadata": {},
     "output_type": "execute_result"
    }
   ],
   "source": [
    "text=text.replace(\"\\n\", \"\")\n",
    "text = text.lower()\n",
    "text"
   ]
  },
  {
   "cell_type": "code",
   "execution_count": 76,
   "metadata": {},
   "outputs": [
    {
     "name": "stdout",
     "output_type": "stream",
     "text": [
      "****************************************************************************************************\n",
      "Date of judjement passed is ---> 07/07/2014       \n",
      "****************************************************************************************************\n",
      "Do you pleaded guilty? ---> i  plead guilty.\n",
      "****************************************************************************************************\n",
      "Name of accused --->  suresh  punjaram sable\n",
      "****************************************************************************************************\n",
      "adderess of accused --->  valadgaon, tal. aurangabad\n",
      "****************************************************************************************************\n",
      "Section And Act ---> 252 of criminal procedure code for the offence punishable under sec. 158 r/w sec. 177 of motor vehicles act  \n",
      "****************************************************************************************************\n"
     ]
    }
   ],
   "source": [
    "import re\n",
    "#Date of judgement passed\n",
    "print(\"*\"*100)\n",
    "result = re.search('date :- (.*) accused---', text)\n",
    "print(\"Date of judjement passed is --->\", result.group(1))\n",
    "print(\"*\"*100)\n",
    "\n",
    "#Guilty or not\n",
    "result = re.search('do you plead guilty ?(.*)date :- \\d{2}/\\d{2}/\\d{4}        accused', text)\n",
    "print(\"Do you pleaded guilty? --->\", result.group(1)[1:])\n",
    "print(\"*\"*100)\n",
    "\n",
    "#Name of accused\n",
    "result = re.search('newasa : (.*), age - 42,', text)\n",
    "result = re.search('accused (.*), age - 42,', text)\n",
    "text1 = result.group(1)\n",
    "result = re.search('accused  (.*), age', text1)\n",
    "print(\"Name of accused --->\", result.group(1))\n",
    "print(\"*\"*100)\n",
    "\n",
    "#Address of Accused\n",
    "result = re.search('age - 42 (.*)\\d{2}/\\d{2}/\\d{4}atabout10', text)\n",
    "print(\"adderess of accused --->\", result.group(1)[5:][:27])\n",
    "print(\"*\"*100)\n",
    "\n",
    "#ACT and Section\n",
    "result = re.search('hereby convicted (.*)and he is sentenced', text)\n",
    "text1 = result.group(1)\n",
    "result = re.search('hereby convicted (.*)', text1)\n",
    "print(\"Section And Act --->\", result.group(1)[4:])\n",
    "print(\"*\"*100)\n",
    "\n"
   ]
  },
  {
   "cell_type": "code",
   "execution_count": null,
   "metadata": {},
   "outputs": [],
   "source": []
  },
  {
   "cell_type": "code",
   "execution_count": null,
   "metadata": {},
   "outputs": [],
   "source": []
  },
  {
   "cell_type": "markdown",
   "metadata": {},
   "source": [
    "# Third English pdf"
   ]
  },
  {
   "cell_type": "code",
   "execution_count": 77,
   "metadata": {},
   "outputs": [
    {
     "data": {
      "text/plain": [
       "str"
      ]
     },
     "execution_count": 77,
     "metadata": {},
     "output_type": "execute_result"
    }
   ],
   "source": [
    "import textract\n",
    "text = textract.process(\"9b347cfd5d99a62e9a9f51f50b4567b8 (5) (1).pdf\", encoding='ascii')\n",
    "text = text.decode()\n",
    "type(text)\n"
   ]
  },
  {
   "cell_type": "code",
   "execution_count": 78,
   "metadata": {},
   "outputs": [
    {
     "data": {
      "text/plain": [
       "'in the court of judicial magistrate f.c., newasaat  newasa s.t.c. no. 739/2013              exh. no. 2date of offence:  26/12/2013date of complaint:  30/12/2013name of complainant: state of maharashtra through-  probationary p.s.i. bharat uttam more  p.s. newasa1,2.3.4.name of accused5.      particulars of offence: kailas devidas ranshoor  age 30 r/o pandharpur  near maruti mandir  aurangabad  :thatyouon26/12/2013atabout11.05a.m.atnewasafatainfrontofpoojafastfood, parkedyourtatamagicno.mh/20/bn/4084andtherebycaused  obstruction  to  the  public  and  that  you  have  committed  an  offencepunishableundersec.283ofi.p.c.lastly,onthesaiddatetimeandplace,youabandonedyourtatamagicno.mh/20/bn/4084onpublicplaceinsuchapositionastocausedanger,obstruction,inconveniencetothepassengersonroadandtherebycommittedanoffenceundersec.122punishableundersec.177ofmotorvehiclesactandwithinmycognizance.6.    plea of the accusedq. no.1have you received the copies of police papers?a.yes.q. no.2have you understood the particulars of offence now read over and explained to you in vernacular?a.yes.\\x0c2q. no.3a.do you plead guilty?i  plead guilty.date :-         30/12/2013accused--------------------      (n.n. patil ) judicial magistrate f.c.  newasa          the accused has voluntarily pleaded guilty for the offence against him. the plea being voluntary. hence, i pass the following order :    o r d e r1the accused   kailas devidas ranshoor, age 30 r/o pandharpur, near maruti mandir, aurangabad is hereby convicted u/s 252 of criminal procedure code for the offence punishable under 283 of i.p.c  and he is sentenced to pay fine of rs.200/- (rs. two hundred only). in default of payment of fine amount, accused to suffer simple imprisonment for 07 days.2 the accused  kailas devidas ranshoor, age 30 r/o pandharpur, near maruti mandir, aurangabad is hereby convicted u/s 252 of criminal procedure code for the offence under sec. 122 punishable under sec. 177 of motor vehicles act   and he is sentenced to pay fine of rs.100/- (rs. one hundred only).   in   default   of   payment   of   fine   amount,   accused   to   suffer   simple imprisonment for 07 days date :-   30/12/2013                     (n.n. patil )judicial magistrate f.c. newasa \\x0c'"
      ]
     },
     "execution_count": 78,
     "metadata": {},
     "output_type": "execute_result"
    }
   ],
   "source": [
    "text=text.replace(\"\\n\", \"\")\n",
    "text = text.lower()\n",
    "text"
   ]
  },
  {
   "cell_type": "code",
   "execution_count": 79,
   "metadata": {},
   "outputs": [
    {
     "name": "stdout",
     "output_type": "stream",
     "text": [
      "****************************************************************************************************\n",
      "Date of judjement passed is --->         30/12/2013\n",
      "****************************************************************************************************\n",
      "Do you pleaded guilty? ---> i  plead guilty.\n",
      "****************************************************************************************************\n",
      "Name of accused --->  kailas devidas ranshoor\n",
      "****************************************************************************************************\n",
      "adderess of accused ---> pandharpur  near maruti mandir  aurangabad\n",
      "****************************************************************************************************\n",
      "Section And Act ---> 252 of criminal procedure code for the offence under sec. 122 punishable under sec. 177 of motor vehicles act   \n",
      "****************************************************************************************************\n"
     ]
    }
   ],
   "source": [
    "import re\n",
    "#Date of judgement passed\n",
    "print(\"*\"*100)\n",
    "result = re.search('date :- (.*)accused---', text)\n",
    "print(\"Date of judjement passed is --->\", result.group(1))\n",
    "print(\"*\"*100)\n",
    "\n",
    "#Guilty or not\n",
    "result = re.search('do you plead guilty ?(.*)date :-         \\d{2}/\\d{2}/\\d{4}accused', text)\n",
    "print(\"Do you pleaded guilty? --->\", result.group(1)[1:])\n",
    "print(\"*\"*100)\n",
    "\n",
    "#Name of accused\n",
    "result = re.search('the (.*), age 30', text)\n",
    "text1 = result.group(1)\n",
    "result = re.search('accused  (.*), age', text1)\n",
    "print(\"Name of accused --->\", result.group(1))\n",
    "print(\"*\"*100)\n",
    "\n",
    "#Address of Accused\n",
    "result = re.search('age 30 (.*)  :thatyouon', text)\n",
    "print(\"adderess of accused --->\", result.group(1)[4:])\n",
    "print(\"*\"*100)\n",
    "\n",
    "#ACT and Section\n",
    "result = re.search('hereby convicted (.*)and he is sentenced', text)\n",
    "text1 = result.group(1)\n",
    "result = re.search('hereby convicted (.*)', text1)\n",
    "print(\"Section And Act --->\", result.group(1)[4:])\n",
    "print(\"*\"*100)\n",
    "\n"
   ]
  },
  {
   "cell_type": "code",
   "execution_count": null,
   "metadata": {},
   "outputs": [],
   "source": []
  },
  {
   "cell_type": "code",
   "execution_count": null,
   "metadata": {},
   "outputs": [],
   "source": []
  },
  {
   "cell_type": "markdown",
   "metadata": {},
   "source": [
    "# Hindi"
   ]
  },
  {
   "cell_type": "code",
   "execution_count": 80,
   "metadata": {},
   "outputs": [],
   "source": [
    "#Incomplete"
   ]
  },
  {
   "cell_type": "markdown",
   "metadata": {},
   "source": [
    "> I might be missing something to get hindi word...Please let me know how to do this"
   ]
  },
  {
   "cell_type": "code",
   "execution_count": 81,
   "metadata": {},
   "outputs": [
    {
     "data": {
      "text/plain": [
       "str"
      ]
     },
     "execution_count": 81,
     "metadata": {},
     "output_type": "execute_result"
    }
   ],
   "source": [
    "import textract\n",
    "text = textract.process(\"df70ba75b35162e34d7a6fabd983bb41 (2) (1).pdf\", encoding='ascii')\n",
    "text = text.decode()\n",
    "type(text)\n",
    "\n"
   ]
  },
  {
   "cell_type": "code",
   "execution_count": 82,
   "metadata": {},
   "outputs": [
    {
     "data": {
      "text/plain": [
       "\"                                                      1                         l-qks-[k-dz- 2695@2016 fu'kkuh&5 yxr-1-ljdkjh   i{kkp;k   vkysy;k   lk{kh   iqjko;ko:u   [kkyhy   eqnns~voyksdkukfkz   miflfkr   >kys   vlqu   r;kph   dkj.khehekalklg   fudkz[kkyhyizek.ks nsr vkgs-eqn~ns1- vkjksihr ;kauh rk- 25-01-2016 jksth lka;dkgh05-00 oktsp;k lqekjkl okdm tdkr ukdk] iq.ks ;sfkslohv   dkj   dza-   ,e,p   14   lh,dl   8348   ghcsdk;ns'khjfjr;k   vos/k   izoklh   okgrqd   d:upkyfoy;kps] vfhk;ksx i{kkus fl/n dsys vkgs dk; \\\\ 2-     mijksdr   osgh   fbdk.kh   vkjksihr   ;kap;kdms   rkspkyfor vlysy;k okgukph laca/khr dkxni=s fegquvkys ukgh]  gs vfhk;ksx i{k 'kkchr djrks dk; \\\\3- vafre vkns'k dk; \\\\ fudkz------ukgh----------ukgh---- vkjksihph funkszkeqdrrk-  2- vkjksih fo:/n bso.;kr vkysyk eksvkj okgu dk;nk dye] 661lg 192] 158 lg 177]  vuo;spk vkjksi ikgrk vfhk;ksx i{kkus [kkyhyckch 'kkchr dj.ks vko';d vkgs-1-?kvsup;k fno'kh vkjksih gkp  lnj okgu pkyfor gksrk-2-    rks lnj okgu pkyfor vlrkauk vkjksihr ;kus viik ik/nrhus  vos/k izok'kh okgrqd dsyh] r;kdfjrk r;kap;kdms osxosxg;k  jddek izokl hkkm;kiksvh lohdkjy;k-3-lnj okgu pkyfor vlrkauk vkjksih ;kp;kdms okgukps uksan.khiqlrd] dj ikorh] foek ikorh uogrh-3- vfhk;ksx   i{kkrqsz   ek-   ljdkjh   odhy   dq-   ds-,e-   ckcj]   o   vkjksihrqsz odhy jh- ih- ,- nslkbz ;kapk ;qdrhokn ,sdyk-\\x0c                                                              @201 6 l-qks-[k-dz- 2695  dkj.khfeekalka4- vkjksihoj   vkjksi   fl/n   dj.;klkbh   vfhk;ksx   i{kk   ekqzr   lk{khnkjdzaekad 1- lehjmyyk pkanlkgsc dk>h] ;kaph lk{k uksanfoyh dkxnksi=h iqjko;ke/;s fq;kzn fu'kkuh &10] dye 207 uksvhl] fu'kkuh&9] izok'kh ;knhfu'kkuh&11 izek.ks  nk[ky dsyh vkgs- eqnns~ dzekad 1 o 2]  nksugh eq|kojhy lk{k iqjkok~ gk nksugh eqn~;ka'kh fuxmhr vly;kus nksugheqn~a;kph dkj.khfeekalk ,df=r dsysyh vkgs-5- vfhk;ksx i{kkrqsz dsog fq;kznh lk{khnkj dza- 1 ;kaph lk{k uksano.;krvkyh- r;kauh r;kp;k eksf[kd iqjko;kr rkjh[k 25-01-2016 jksth lka;dkgh05-00   oktsp;k   lqekjkl   okdm   tdkr   ukdk]   iq.ks   vkjksihr   gk   r;kapkrkc;krhy  lohv   dkj   dza-   ,e,p   14   lh,dl   8348  e/;s   csdk;ns'khjizok'kh okgrqd djrkauk fegqu vkyk- r;kap;k ofjbkauh r;kl eksvkj okgudk;nk dye 207 uqlkj uksvhl fnyh] r;kauh r;kl fkkacoqu pksd'kh dsyhvlrk viik ik/nrhus  izok'kh okgrqd djhr vly;kps vk<gys eg.kqu r;kapsofjbkauh izok'kh ;knh cuoqu fq;kzn fnyh] vls dfku dsysys vkgs- 6-lnj   lk{khnkjkps   eksf[kd   iqjko;kr   lnj   fbdk.kh   ?kvuklfkg   iapukekdsysyk ukgh o lora= lk{khnkjkaps tckc ?ksrysys ukgh vls dfku vkysysvkgs-   lnj   lk{khnkjkpk   eksf[kd   iqjkok   gk   dsog   vkjksihr   ;kps   okgurikly;kckcrps   vfhk;ksx   i{kkps   dfku   'kkchr   dj.;kl   mi;ksxh   vkgs-vkjksihr ;kp;kdms izok'kh okgrqdhpk ijokuk uogrkp fdaok vkjksihr gk viikkik/nrhus izok'kh okgrqd djhr gksrk vlk fudkz dk<.;kl r;kapk eksf[kdiqjkok iqjslk lcg ukgh-  \\x0c                                                      3                         l-qks-[k-dz- 2695@2016 fu'kkuh&5 yxr-7- vfhk;ksx i{kkus [kvy;kr tjh laca/khr izok'kakph ;knh o r;kapsdmquvkjksihus lohdkjysys hkkms ;kaps o.kzu fnysys vlys rjh r;kisdh dks.kr;kghizok'kkph  lk{k  uksnafoysyh   ukgh-     lk{khnkj   dza-  1  ;kaps  fvi.k  rikldkehfq;kznh ;kauh ?ksrysys ukgh dsog r;kaps ukao lk{khnkj eg.kqu fq;kzn e/;s ueqndj.;kr vkysys vkgs-  izr;{kkr rikldkeh vkjksihr ;kps okgu r;kps le{krikl.;kr   vkys   o   r;kosgh   vkjksihr   gk   izok'kh   okgrqd   djhr   vlrkaukvk<gyk   vlk   dkxnksi=h   iqjkok   izdj.kkr   nk[ky   dsysyk   ukgh-     v'kkifjflfkrhr vkjksihr ;kus viikk ik/nrhus okgrqd dsyh ;kckcrps liv iqjko;kvhkkoh vkjksihr gk nkskh vly;kpk fudkz dk<.ks u;k;ksphr ukgh- 8- vkjksihr ;kl eksvkj okgu dk;nk dye 207 izek.ks okgukph dkxni=slknj dj.;kckcr th uksvhl fu'kkuh&9 ns.;kr vkysyh vkgs-   rh uksvhlns.kk&;k   laca/khr   lk{khnkjkph   lk{k   vfhk;ksx   i{kkus   uksanfoysyh   ukgh]   rlkuksvhl fny;kckcr laca/khr o;fdrpk tckc ?ks.;kr vkysyk ukgh-   r;keqgsvkjksihr ;kp;kdms okgukph dkxni=s uogrh gh ckc vfhk;ksx i{k 'kkchrd:u 'kdysyk ukgh-  r;keqgs eqnnk dza 1 o 2 eh udkjkfkhz ?kksfkr djhrvkgs-    eqnn~k dzekad 3-9- vkjksih   ;kps   ojhy   vkjksi   'kd;   v'kd;rk   ifydms   lcg   v'kkiqjko;kvarh   vfhk;ksxi{kkus   'kkchr   dsys   ukgh-   r;keqgs   vkjksih   funkzsk   eqdrgks.ksl ik= vkgs- r;keqgs ojhy izek.ks dkj.khfeekalsoj o iqjko;kpk fopkjd:u eh [kkyhy izek.ks vafre vkns'k ikjhr djhr vkgs-vkns'k1.vkjksih /kujkt hkk lkcgs] jk- bk.ks-] ;kaph qkstnkjh izf;k  lafgrkdye 2551 vuo;s eksvkj  okgu dk;nk lu 1988 ps dye]  \\x0c                                                              @201 6 l-qks-[k-dz- 2695 661 lg 192v] 158 lg 177] p;k vkjksikrqu funkszk eqdrrkdj.;kr ;srs-2- vkjksihpk os;fdrd tkreqpydk jnn~ dj.;kr ;srks-u;k;fu.kz; [kqy;k u;k;ky;kr ?kksfkr-                                                fnukad % 20-06-2016- egs'k iz- ljkq    izfke oxz u;k;namkf/kdkjh]    eksvkj okgu u;k;ky;] iq.ks-fudky lkafxry;kph rkjh[k fudky vadfy[kr dsy;kph rkjh[kfudkykoj lgh dsy;kph rkjh[k%& 20-06-2016-%& 20-06-2016-%& 20-06-2016-\\x0c                                                      5                         l-qks-[k-dz- 2695@2016 fu'kkuh&5 yxr-  'ksjk^^eh 'kifksoj lkaxrks dh] ;k ih-mh-,q~- u;k;fu.kz; qkbzy e/khy etdqj gk eqg u;k;fu.kz;krhy etdqjk'kh 'kcnka'kcn lkj[kk vkgs-**y?kqys[kdkps uko %& jh- ;ksxs'k lqjs'k ekgh y[kqys[kd fu-js-dksvkzps uko o gqn~nk%& jh- egs'k- iz- ljkq] izfke oxz u;k;namkf/kdkjh]    eksvkj okgu u;k;ky;] iq.ks- fnukad%& 20-06-2016- \\x0c                                                              @201 6 l-qks-[k-dz- 2695 \\x0c\""
      ]
     },
     "execution_count": 82,
     "metadata": {},
     "output_type": "execute_result"
    }
   ],
   "source": [
    "text=text.replace(\"\\n\", \"\")\n",
    "text = text.lower()\n",
    "text"
   ]
  },
  {
   "cell_type": "code",
   "execution_count": null,
   "metadata": {},
   "outputs": [],
   "source": []
  },
  {
   "cell_type": "code",
   "execution_count": null,
   "metadata": {},
   "outputs": [],
   "source": []
  }
 ],
 "metadata": {
  "kernelspec": {
   "display_name": "Python 3",
   "language": "python",
   "name": "python3"
  },
  "language_info": {
   "codemirror_mode": {
    "name": "ipython",
    "version": 3
   },
   "file_extension": ".py",
   "mimetype": "text/x-python",
   "name": "python",
   "nbconvert_exporter": "python",
   "pygments_lexer": "ipython3",
   "version": "3.6.6"
  }
 },
 "nbformat": 4,
 "nbformat_minor": 2
}
